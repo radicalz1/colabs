{
  "nbformat": 4,
  "nbformat_minor": 0,
  "metadata": {
    "colab": {
      "provenance": [],
      "authorship_tag": "ABX9TyN83y1OuLSFxPTy99Puo++a",
      "include_colab_link": true
    },
    "kernelspec": {
      "name": "python3",
      "display_name": "Python 3"
    },
    "language_info": {
      "name": "python"
    }
  },
  "cells": [
    {
      "cell_type": "markdown",
      "metadata": {
        "id": "view-in-github",
        "colab_type": "text"
      },
      "source": [
        "<a href=\"https://colab.research.google.com/github/radicalz1/colabs/blob/main/2_Fooocus_Inswapper.ipynb\" target=\"_parent\"><img src=\"https://colab.research.google.com/assets/colab-badge.svg\" alt=\"Open In Colab\"/></a>"
      ]
    },
    {
      "cell_type": "code",
      "execution_count": null,
      "metadata": {
        "id": "NVIVNRi58LZd"
      },
      "outputs": [],
      "source": [
        "#@title # 👈 **Inswapper Fooocus**\n",
        "from IPython.display import clear_output\n",
        "\n",
        "!pip install pygit2==1.12.2\n",
        "%cd /content\n",
        "!git clone https://github.com/machineminded/Fooocus-inswapper.git\n",
        "!git checkout feature/instantid\n",
        "%cd /content/Fooocus-inswapper\n",
        "!chmod +x configure-colab.sh\n",
        "!/content/Fooocus-inswapper/configure-colab.sh\n",
        "# %pip install -r requirements_versions.txt\n",
        "\n",
        "!python launch.py --share  --always-high-vram --disable-offload-from-vram --preset realistic\n",
        "clear_output()\n",
        "\n",
        "#@title **RUN**\n",
        "# entry_with_update.py  [-h] [--listen [IP]] [--port PORT]\n",
        "#                       [--disable-header-check [ORIGIN]]\n",
        "#                       [--web-upload-size WEB_UPLOAD_SIZE]\n",
        "#                       [--external-working-path PATH [PATH ...]]\n",
        "#                       [--output-path OUTPUT_PATH] [--temp-path TEMP_PATH]\n",
        "#                       [--cache-path CACHE_PATH] [--in-browser]\n",
        "#                       [--disable-in-browser] [--gpu-device-id DEVICE_ID]\n",
        "#                       [--async-cuda-allocation | --disable-async-cuda-allocation]\n",
        "#                       [--disable-attention-upcast] [--all-in-fp32 | --all-in-fp16]\n",
        "#                       [--unet-in-bf16 | --unet-in-fp16 | --unet-in-fp8-e4m3fn | --unet-in-fp8-e5m2]\n",
        "#                       [--vae-in-fp16 | --vae-in-fp32 | --vae-in-bf16]\n",
        "#                       [--clip-in-fp8-e4m3fn | --clip-in-fp8-e5m2 | --clip-in-fp16 | --clip-in-fp32]\n",
        "#                       [--directml [DIRECTML_DEVICE]] [--disable-ipex-hijack]\n",
        "#                       [--preview-option [none,auto,fast,taesd]]\n",
        "#                       [--attention-split | --attention-quad | --attention-pytorch]\n",
        "#                       [--disable-xformers]\n",
        "#                       [--always-gpu | --always-high-vram | --always-normal-vram |\n",
        "#                        --always-low-vram | --always-no-vram | --always-cpu]\n",
        "#                       [--always-offload-from-vram] [--disable-server-log]\n",
        "#                       [--debug-mode] [--is-windows-embedded-python]\n",
        "#                       [--disable-server-info] [--share] [--preset PRESET]\n",
        "#                       [--language LANGUAGE] [--disable-offload-from-vram]\n",
        "#                       [--theme THEME] [--disable-image-log]\n",
        "\n",
        "# !python entry_with_update.py --share --always-offload-from-vram --always-gpu\n",
        "# !python launch.py --share  --always-offload-from-vram --always-gpu --preset realistic\n",
        "!python launch.py --share  --always-high-vram --disable-offload-from-vram --preset realistic\n",
        "clear_output()\n",
        "\n"
      ]
    },
    {
      "cell_type": "code",
      "source": [
        "#@title **RUN ONLY**\n",
        "# entry_with_update.py  [-h] [--listen [IP]] [--port PORT]\n",
        "#                       [--disable-header-check [ORIGIN]]\n",
        "#                       [--web-upload-size WEB_UPLOAD_SIZE]\n",
        "#                       [--external-working-path PATH [PATH ...]]\n",
        "#                       [--output-path OUTPUT_PATH] [--temp-path TEMP_PATH]\n",
        "#                       [--cache-path CACHE_PATH] [--in-browser]\n",
        "#                       [--disable-in-browser] [--gpu-device-id DEVICE_ID]\n",
        "#                       [--async-cuda-allocation | --disable-async-cuda-allocation]\n",
        "#                       [--disable-attention-upcast] [--all-in-fp32 | --all-in-fp16]\n",
        "#                       [--unet-in-bf16 | --unet-in-fp16 | --unet-in-fp8-e4m3fn | --unet-in-fp8-e5m2]\n",
        "#                       [--vae-in-fp16 | --vae-in-fp32 | --vae-in-bf16]\n",
        "#                       [--clip-in-fp8-e4m3fn | --clip-in-fp8-e5m2 | --clip-in-fp16 | --clip-in-fp32]\n",
        "#                       [--directml [DIRECTML_DEVICE]] [--disable-ipex-hijack]\n",
        "#                       [--preview-option [none,auto,fast,taesd]]\n",
        "#                       [--attention-split | --attention-quad | --attention-pytorch]\n",
        "#                       [--disable-xformers]\n",
        "#                       [--always-gpu | --always-high-vram | --always-normal-vram |\n",
        "#                        --always-low-vram | --always-no-vram | --always-cpu]\n",
        "#                       [--always-offload-from-vram] [--disable-server-log]\n",
        "#                       [--debug-mode] [--is-windows-embedded-python]\n",
        "#                       [--disable-server-info] [--share] [--preset PRESET]\n",
        "#                       [--language LANGUAGE] [--disable-offload-from-vram]\n",
        "#                       [--theme THEME] [--disable-image-log]\n",
        "\n",
        "# !python entry_with_update.py --share --always-offload-from-vram --always-gpu\n",
        "# !python launch.py --share  --always-offload-from-vram --always-gpu --preset realistic\n",
        "!python launch.py --share  --always-high-vram --disable-offload-from-vram --preset realistic\n",
        "clear_output()\n",
        "\n"
      ],
      "metadata": {
        "cellView": "form",
        "id": "QZNc9P688MkN"
      },
      "execution_count": null,
      "outputs": []
    }
  ]
}